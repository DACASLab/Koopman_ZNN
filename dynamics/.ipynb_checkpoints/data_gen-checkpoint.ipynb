{
 "cells": [
  {
   "cell_type": "code",
   "execution_count": 10,
   "id": "3fc1eb54-898b-4ed6-ab9b-d5ab16911f42",
   "metadata": {
    "tags": []
   },
   "outputs": [
    {
     "name": "stdout",
     "output_type": "stream",
     "text": [
      "DHRobot: Puma 560 (by Unimation), 6 joints (RRRRRR), dynamics, geometry, standard DH parameters\n",
      "┌────┬────────┬────────┬────────┬─────────┬────────┐\n",
      "│θⱼ  │   dⱼ   │   aⱼ   │   ⍺ⱼ   │   q⁻    │   q⁺   │\n",
      "├────┼────────┼────────┼────────┼─────────┼────────┤\n",
      "│ q1\u001b[0m │ 0.6718\u001b[0m │      0\u001b[0m │  90.0°\u001b[0m │ -160.0°\u001b[0m │ 160.0°\u001b[0m │\n",
      "│ q2\u001b[0m │      0\u001b[0m │ 0.4318\u001b[0m │   0.0°\u001b[0m │ -110.0°\u001b[0m │ 110.0°\u001b[0m │\n",
      "│ q3\u001b[0m │   0.15\u001b[0m │ 0.0203\u001b[0m │ -90.0°\u001b[0m │ -135.0°\u001b[0m │ 135.0°\u001b[0m │\n",
      "│ q4\u001b[0m │ 0.4318\u001b[0m │      0\u001b[0m │  90.0°\u001b[0m │ -266.0°\u001b[0m │ 266.0°\u001b[0m │\n",
      "│ q5\u001b[0m │      0\u001b[0m │      0\u001b[0m │ -90.0°\u001b[0m │ -100.0°\u001b[0m │ 100.0°\u001b[0m │\n",
      "│ q6\u001b[0m │      0\u001b[0m │      0\u001b[0m │   0.0°\u001b[0m │ -266.0°\u001b[0m │ 266.0°\u001b[0m │\n",
      "└────┴────────┴────────┴────────┴─────────┴────────┘\n",
      "\n",
      "┌─┬──┐\n",
      "└─┴──┘\n",
      "\n",
      "┌─────┬─────┬──────┬───────┬─────┬──────┬─────┐\n",
      "│name │ q0  │ q1   │ q2    │ q3  │ q4   │ q5  │\n",
      "├─────┼─────┼──────┼───────┼─────┼──────┼─────┤\n",
      "│  qr\u001b[0m │  0°\u001b[0m │  90°\u001b[0m │ -90°\u001b[0m  │  0°\u001b[0m │  0°\u001b[0m  │  0°\u001b[0m │\n",
      "│  qz\u001b[0m │  0°\u001b[0m │  0°\u001b[0m  │  0°\u001b[0m   │  0°\u001b[0m │  0°\u001b[0m  │  0°\u001b[0m │\n",
      "│  qn\u001b[0m │  0°\u001b[0m │  45°\u001b[0m │  180°\u001b[0m │  0°\u001b[0m │  45°\u001b[0m │  0°\u001b[0m │\n",
      "│  qs\u001b[0m │  0°\u001b[0m │  0°\u001b[0m  │ -90°\u001b[0m  │  0°\u001b[0m │  0°\u001b[0m  │  0°\u001b[0m │\n",
      "└─────┴─────┴──────┴───────┴─────┴──────┴─────┘\n",
      "\n"
     ]
    }
   ],
   "source": [
    "## data generations\n",
    "import roboticstoolbox as rtb\n",
    "import numpy as np\n",
    "robot = rtb.models.DH.Puma560()\n",
    "print(robot)"
   ]
  },
  {
   "cell_type": "code",
   "execution_count": 13,
   "id": "c19ecedd-7b7c-4109-b934-02e1d5b6c2a0",
   "metadata": {
    "tags": []
   },
   "outputs": [
    {
     "data": {
      "text/plain": [
       "array([[-6.05970026e-03,  3.73079836e-02, -1.73472348e-18,\n",
       "        -1.36244863e-18,  0.00000000e+00,  0.00000000e+00],\n",
       "       [-1.36244863e-18, -1.72110975e-02, -3.46944695e-18,\n",
       "         6.05048736e-34,  5.28548559e-19,  0.00000000e+00],\n",
       "       [ 0.00000000e+00, -1.72110975e-02, -6.81224316e-18,\n",
       "         0.00000000e+00,  8.94466792e-19,  0.00000000e+00],\n",
       "       [-2.26893276e-34,  7.22223729e-35, -2.22685650e-34,\n",
       "         0.00000000e+00,  0.00000000e+00,  0.00000000e+00],\n",
       "       [ 1.06441299e-20,  1.21972744e-19,  0.00000000e+00,\n",
       "         0.00000000e+00,  0.00000000e+00,  0.00000000e+00],\n",
       "       [ 0.00000000e+00,  0.00000000e+00,  0.00000000e+00,\n",
       "         0.00000000e+00,  0.00000000e+00,  0.00000000e+00]])"
      ]
     },
     "execution_count": 13,
     "metadata": {},
     "output_type": "execute_result"
    }
   ],
   "source": [
    "robot.coriolis(robot.qr, robot.qr)"
   ]
  },
  {
   "cell_type": "code",
   "execution_count": 14,
   "id": "95f11dad-bb0f-4161-8fb2-b116bcdc8211",
   "metadata": {
    "tags": []
   },
   "outputs": [
    {
     "data": {
      "text/plain": [
       "array([[ 2.33735105e+00, -8.29305154e-01, -1.38913810e-01,\n",
       "         1.64000000e-03, -4.32144000e-04,  4.00000000e-05],\n",
       "       [-8.29305154e-01,  5.20694800e+00,  7.47899277e-01,\n",
       "         9.73037481e-19,  3.12932800e-03,  2.44929360e-21],\n",
       "       [-1.38913810e-01,  7.47899277e-01,  9.38652730e-01,\n",
       "         5.61100343e-19,  1.88574400e-03,  2.44929360e-21],\n",
       "       [ 1.64000000e-03,  9.73037481e-19,  5.61100343e-19,\n",
       "         1.92430626e-01,  2.08189956e-20,  4.00000000e-05],\n",
       "       [-4.32144000e-04,  3.12932800e-03,  1.88574400e-03,\n",
       "         2.08189956e-20,  1.71348452e-01,  2.44929360e-21],\n",
       "       [ 4.00000000e-05,  2.44929360e-21,  2.44929360e-21,\n",
       "         4.00000000e-05,  2.44929360e-21,  1.94104506e-01]])"
      ]
     },
     "execution_count": 14,
     "metadata": {},
     "output_type": "execute_result"
    }
   ],
   "source": [
    "robot.inertia(robot.qr)"
   ]
  },
  {
   "cell_type": "code",
   "execution_count": 18,
   "id": "c165503f-e23a-4c61-abee-13810b369c2c",
   "metadata": {
    "tags": []
   },
   "outputs": [
    {
     "data": {
      "text/plain": [
       "array([ 0.        , -0.77523525,  0.24892875,  0.        ,  0.        ,\n",
       "        0.        ])"
      ]
     },
     "execution_count": 18,
     "metadata": {},
     "output_type": "execute_result"
    }
   ],
   "source": [
    "robot.gravload(robot.qr)"
   ]
  },
  {
   "cell_type": "code",
   "execution_count": null,
   "id": "057acf8a-15a9-4d83-8ec8-0708da5a4a7c",
   "metadata": {},
   "outputs": [],
   "source": [
    "def dynamics_3R_data_gen(dt,robot,num_traj,num_snaps,num_states,num_inputs, robot_pars):\n",
    "    \n",
    "\n",
    "    # matrix initializations\n",
    "    X = np.empty((num_traj,num_snaps+1,num_states)) # cartesian state matrix\n",
    "    U = np.empty((num_traj,num_snaps,num_inputs)) # input matrix\n",
    "    x_end = np.empty((num_traj,num_snaps+1,2)) # position of end effector\n",
    "\n",
    "    for i in range(num_traj):\n",
    "    # initialize the values for the trajectory\n",
    "      # joint angles\n",
    "        X[i,0,0:num_tates] = np.pi*(2*np.random.rand(1,1,3)-1) # theta values\n",
    "          # joint velocities\n",
    "        X[i,0,num_states:2*num_states] = 0.1*(2*np.random.rand(1,1,3)-1) # theta values\n",
    "        htf = robot.fkine(X[i,0,0:num_states])\n",
    "        x_end[i,0,:]= htf[:3,4]\n",
    "        \n",
    "\n",
    "\n",
    "        for j in range(num_snaps):\n",
    "\n",
    "            # inputs\n",
    "            U[i,j,:] = 1*(2*np.random.rand(1,1,3)-1)\n",
    "            \n",
    "            th_ddot = robot.accel(X[i,j,0:3], U[i,j,:], X[i,j,3:6])\n",
    "            # theta evolution\n",
    "            X[i,j+1,num_states:2*num_states] = th_ddot*dt + X[i,j+1,num_states:2*num_states] \n",
    "            X[i,j+1,0:num_states] =  X[i,j+1,num_states:2*num_states]*dt + X[i,j+1,:num_states]\n",
    "            htf = robot.fkine(X[i,j+1,0:num_states])\n",
    "            x_end[i,j+1,0]= htf[:3,4]\n",
    "    return x_end,X,U"
   ]
  },
  {
   "cell_type": "code",
   "execution_count": null,
   "id": "ffcf1f16-0ed3-42df-a41b-e1d23ac9d96c",
   "metadata": {},
   "outputs": [],
   "source": [
    "robot.fkine"
   ]
  }
 ],
 "metadata": {
  "kernelspec": {
   "display_name": "Python 3 (ipykernel)",
   "language": "python",
   "name": "python3"
  },
  "language_info": {
   "codemirror_mode": {
    "name": "ipython",
    "version": 3
   },
   "file_extension": ".py",
   "mimetype": "text/x-python",
   "name": "python",
   "nbconvert_exporter": "python",
   "pygments_lexer": "ipython3",
   "version": "3.8.10"
  }
 },
 "nbformat": 4,
 "nbformat_minor": 5
}
