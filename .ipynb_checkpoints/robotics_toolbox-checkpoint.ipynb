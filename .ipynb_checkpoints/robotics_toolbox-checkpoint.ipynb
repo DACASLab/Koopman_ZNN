{
 "cells": [
  {
   "cell_type": "code",
   "execution_count": 1,
   "id": "ee5d7e9e-2892-4f79-884a-f64cb8572aac",
   "metadata": {
    "tags": []
   },
   "outputs": [],
   "source": [
    "import numpy as np\n",
    "import roboticstoolbox as rtb\n",
    "from spatialmath import *\n",
    "from math import pi\n",
    "import matplotlib.pyplot as plt\n",
    "from matplotlib import cm\n",
    "np.set_printoptions(linewidth=100, formatter={'float': lambda x: f\"{x:8.4g}\" if abs(x) > 1e-10 else f\"{0:8.4g}\"})\n",
    "\n",
    "%matplotlib notebook\n",
    "%config NotebookBackend.figure_format = 'retina'"
   ]
  },
  {
   "cell_type": "code",
   "execution_count": 5,
   "id": "a9125ea2-1c64-4ce6-974c-d2fad6a61b4e",
   "metadata": {
    "tags": []
   },
   "outputs": [],
   "source": [
    "robot = rtb.models.DH.Puma560()\n"
   ]
  },
  {
   "cell_type": "code",
   "execution_count": 3,
   "id": "e0901e91-85a3-474a-a31a-8778dd3fb3e9",
   "metadata": {
    "tags": []
   },
   "outputs": [
    {
     "data": {
      "text/plain": [
       "Swift backend, t = 0.05, scene:\n",
       "  Puma560"
      ]
     },
     "execution_count": 3,
     "metadata": {},
     "output_type": "execute_result"
    }
   ],
   "source": [
    "robot.plot(robot.qr, block = False)"
   ]
  },
  {
   "cell_type": "code",
   "execution_count": 4,
   "id": "c351d5f1-6567-4264-9b26-742458f15a21",
   "metadata": {
    "tags": []
   },
   "outputs": [
    {
     "ename": "TypeError",
     "evalue": "list indices must be integers or slices, not NoneType",
     "output_type": "error",
     "traceback": [
      "\u001b[0;31m---------------------------------------------------------------------------\u001b[0m",
      "\u001b[0;31mTypeError\u001b[0m                                 Traceback (most recent call last)",
      "Cell \u001b[0;32mIn[4], line 1\u001b[0m\n\u001b[0;32m----> 1\u001b[0m \u001b[43mrobot\u001b[49m\u001b[38;5;241;43m.\u001b[39;49m\u001b[43mgravload\u001b[49m\u001b[43m(\u001b[49m\u001b[43mrobot\u001b[49m\u001b[38;5;241;43m.\u001b[39;49m\u001b[43mqr\u001b[49m\u001b[43m)\u001b[49m\n",
      "File \u001b[0;32m~/.local/lib/python3.8/site-packages/roboticstoolbox/robot/Dynamics.py:920\u001b[0m, in \u001b[0;36mDynamicsMixin.gravload\u001b[0;34m(self, q, gravity)\u001b[0m\n\u001b[1;32m    917\u001b[0m z \u001b[38;5;241m=\u001b[39m np\u001b[38;5;241m.\u001b[39mzeros(\u001b[38;5;28mself\u001b[39m\u001b[38;5;241m.\u001b[39mn)\n\u001b[1;32m    919\u001b[0m \u001b[38;5;28;01mfor\u001b[39;00m k, qk \u001b[38;5;129;01min\u001b[39;00m \u001b[38;5;28menumerate\u001b[39m(q):\n\u001b[0;32m--> 920\u001b[0m     taug[k, :] \u001b[38;5;241m=\u001b[39m \u001b[38;5;28;43mself\u001b[39;49m\u001b[38;5;241;43m.\u001b[39;49m\u001b[43mrne\u001b[49m\u001b[43m(\u001b[49m\u001b[43mqk\u001b[49m\u001b[43m,\u001b[49m\u001b[43m \u001b[49m\u001b[43mz\u001b[49m\u001b[43m,\u001b[49m\u001b[43m \u001b[49m\u001b[43mz\u001b[49m\u001b[43m,\u001b[49m\u001b[43m \u001b[49m\u001b[43mgravity\u001b[49m\u001b[38;5;241;43m=\u001b[39;49m\u001b[43mgravity\u001b[49m\u001b[43m)\u001b[49m\n\u001b[1;32m    922\u001b[0m \u001b[38;5;28;01mif\u001b[39;00m q\u001b[38;5;241m.\u001b[39mshape[\u001b[38;5;241m0\u001b[39m] \u001b[38;5;241m==\u001b[39m \u001b[38;5;241m1\u001b[39m:\n\u001b[1;32m    923\u001b[0m     \u001b[38;5;28;01mreturn\u001b[39;00m taug[\u001b[38;5;241m0\u001b[39m, :]\n",
      "File \u001b[0;32m~/.local/lib/python3.8/site-packages/roboticstoolbox/robot/Robot.py:1794\u001b[0m, in \u001b[0;36mRobot.rne\u001b[0;34m(self, q, qd, qdd, symbolic, gravity)\u001b[0m\n\u001b[1;32m   1792\u001b[0m \u001b[38;5;28;01melse\u001b[39;00m:\n\u001b[1;32m   1793\u001b[0m     jp \u001b[38;5;241m=\u001b[39m \u001b[38;5;28mself\u001b[39m\u001b[38;5;241m.\u001b[39mlinks[j]\u001b[38;5;241m.\u001b[39mparent\u001b[38;5;241m.\u001b[39mjindex  \u001b[38;5;66;03m# type: ignore\u001b[39;00m\n\u001b[0;32m-> 1794\u001b[0m     v[j] \u001b[38;5;241m=\u001b[39m Xup[j] \u001b[38;5;241m*\u001b[39m \u001b[43mv\u001b[49m\u001b[43m[\u001b[49m\u001b[43mjp\u001b[49m\u001b[43m]\u001b[49m \u001b[38;5;241m+\u001b[39m vJ\n\u001b[1;32m   1795\u001b[0m     a[j] \u001b[38;5;241m=\u001b[39m (\n\u001b[1;32m   1796\u001b[0m         Xup[j] \u001b[38;5;241m*\u001b[39m a[jp] \u001b[38;5;241m+\u001b[39m SpatialAcceleration(s[j] \u001b[38;5;241m*\u001b[39m qddk[j]) \u001b[38;5;241m+\u001b[39m v[j] \u001b[38;5;241m@\u001b[39m vJ\n\u001b[1;32m   1797\u001b[0m     )\n\u001b[1;32m   1799\u001b[0m f[j] \u001b[38;5;241m=\u001b[39m I[j] \u001b[38;5;241m*\u001b[39m a[j] \u001b[38;5;241m+\u001b[39m v[j] \u001b[38;5;241m@\u001b[39m (I[j] \u001b[38;5;241m*\u001b[39m v[j])\n",
      "File \u001b[0;32m~/.local/lib/python3.8/site-packages/spatialmath/spatialvector.py:148\u001b[0m, in \u001b[0;36mSpatialVector.__getitem__\u001b[0;34m(self, i)\u001b[0m\n\u001b[1;32m    147\u001b[0m \u001b[38;5;28;01mdef\u001b[39;00m \u001b[38;5;21m__getitem__\u001b[39m(\u001b[38;5;28mself\u001b[39m, i):\n\u001b[0;32m--> 148\u001b[0m     \u001b[38;5;28;01mreturn\u001b[39;00m \u001b[38;5;28mself\u001b[39m\u001b[38;5;241m.\u001b[39m\u001b[38;5;18m__class__\u001b[39m(\u001b[38;5;28;43mself\u001b[39;49m\u001b[38;5;241;43m.\u001b[39;49m\u001b[43mdata\u001b[49m\u001b[43m[\u001b[49m\u001b[43mi\u001b[49m\u001b[43m]\u001b[49m)\n",
      "\u001b[0;31mTypeError\u001b[0m: list indices must be integers or slices, not NoneType"
     ]
    }
   ],
   "source": [
    "robot.gravload(robot.qr)"
   ]
  },
  {
   "cell_type": "code",
   "execution_count": null,
   "id": "8a86a9dc-acf5-4c34-8e21-126a80dcb0b2",
   "metadata": {},
   "outputs": [],
   "source": []
  }
 ],
 "metadata": {
  "kernelspec": {
   "display_name": "Python 3 (ipykernel)",
   "language": "python",
   "name": "python3"
  },
  "language_info": {
   "codemirror_mode": {
    "name": "ipython",
    "version": 3
   },
   "file_extension": ".py",
   "mimetype": "text/x-python",
   "name": "python",
   "nbconvert_exporter": "python",
   "pygments_lexer": "ipython3",
   "version": "3.8.10"
  }
 },
 "nbformat": 4,
 "nbformat_minor": 5
}
