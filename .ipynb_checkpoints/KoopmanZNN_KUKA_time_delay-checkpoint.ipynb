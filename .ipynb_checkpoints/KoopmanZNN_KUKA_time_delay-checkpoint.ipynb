{
 "cells": [
  {
   "cell_type": "markdown",
   "id": "23270137-9481-490f-ae63-8a48702bcece",
   "metadata": {
    "id": "32dW0yJtRt71",
    "pycharm": {
     "name": "#%% md\n"
    }
   },
   "source": [
    "***Import Libraries***"
   ]
  },
  {
   "cell_type": "code",
   "execution_count": 1,
   "id": "a881e68b-a7fa-4780-b720-a34f580acfcb",
   "metadata": {
    "id": "iK3pcqmbq78v",
    "pycharm": {
     "name": "#%%\n"
    },
    "tags": []
   },
   "outputs": [
    {
     "ename": "KeyboardInterrupt",
     "evalue": "",
     "output_type": "error",
     "traceback": [
      "\u001b[0;31m---------------------------------------------------------------------------\u001b[0m",
      "\u001b[0;31mKeyboardInterrupt\u001b[0m                         Traceback (most recent call last)",
      "Cell \u001b[0;32mIn [1], line 4\u001b[0m\n\u001b[1;32m      2\u001b[0m \u001b[38;5;28;01mimport\u001b[39;00m \u001b[38;5;21;01mnumpy\u001b[39;00m \u001b[38;5;28;01mas\u001b[39;00m \u001b[38;5;21;01mnp\u001b[39;00m\n\u001b[1;32m      3\u001b[0m \u001b[38;5;28;01mimport\u001b[39;00m \u001b[38;5;21;01mmatplotlib\u001b[39;00m\u001b[38;5;21;01m.\u001b[39;00m\u001b[38;5;21;01mpyplot\u001b[39;00m \u001b[38;5;28;01mas\u001b[39;00m \u001b[38;5;21;01mplt\u001b[39;00m\n\u001b[0;32m----> 4\u001b[0m \u001b[38;5;28;01mimport\u001b[39;00m \u001b[38;5;21;01msklearn\u001b[39;00m\u001b[38;5;21;01m.\u001b[39;00m\u001b[38;5;21;01mpreprocessing\u001b[39;00m\n\u001b[1;32m      5\u001b[0m \u001b[38;5;28;01mimport\u001b[39;00m \u001b[38;5;21;01mitertools\u001b[39;00m\n\u001b[1;32m      6\u001b[0m \u001b[38;5;28;01mimport\u001b[39;00m \u001b[38;5;21;01mscipy\u001b[39;00m\u001b[38;5;21;01m.\u001b[39;00m\u001b[38;5;21;01mio\u001b[39;00m\n",
      "File \u001b[0;32m~/.local/lib/python3.8/site-packages/sklearn/__init__.py:82\u001b[0m\n\u001b[1;32m     80\u001b[0m \u001b[38;5;28;01mfrom\u001b[39;00m \u001b[38;5;21;01m.\u001b[39;00m \u001b[38;5;28;01mimport\u001b[39;00m _distributor_init  \u001b[38;5;66;03m# noqa: F401\u001b[39;00m\n\u001b[1;32m     81\u001b[0m \u001b[38;5;28;01mfrom\u001b[39;00m \u001b[38;5;21;01m.\u001b[39;00m \u001b[38;5;28;01mimport\u001b[39;00m __check_build  \u001b[38;5;66;03m# noqa: F401\u001b[39;00m\n\u001b[0;32m---> 82\u001b[0m \u001b[38;5;28;01mfrom\u001b[39;00m \u001b[38;5;21;01m.\u001b[39;00m\u001b[38;5;21;01mbase\u001b[39;00m \u001b[38;5;28;01mimport\u001b[39;00m clone\n\u001b[1;32m     83\u001b[0m \u001b[38;5;28;01mfrom\u001b[39;00m \u001b[38;5;21;01m.\u001b[39;00m\u001b[38;5;21;01mutils\u001b[39;00m\u001b[38;5;21;01m.\u001b[39;00m\u001b[38;5;21;01m_show_versions\u001b[39;00m \u001b[38;5;28;01mimport\u001b[39;00m show_versions\n\u001b[1;32m     85\u001b[0m __all__ \u001b[38;5;241m=\u001b[39m [\u001b[38;5;124m'\u001b[39m\u001b[38;5;124mcalibration\u001b[39m\u001b[38;5;124m'\u001b[39m, \u001b[38;5;124m'\u001b[39m\u001b[38;5;124mcluster\u001b[39m\u001b[38;5;124m'\u001b[39m, \u001b[38;5;124m'\u001b[39m\u001b[38;5;124mcovariance\u001b[39m\u001b[38;5;124m'\u001b[39m, \u001b[38;5;124m'\u001b[39m\u001b[38;5;124mcross_decomposition\u001b[39m\u001b[38;5;124m'\u001b[39m,\n\u001b[1;32m     86\u001b[0m            \u001b[38;5;124m'\u001b[39m\u001b[38;5;124mdatasets\u001b[39m\u001b[38;5;124m'\u001b[39m, \u001b[38;5;124m'\u001b[39m\u001b[38;5;124mdecomposition\u001b[39m\u001b[38;5;124m'\u001b[39m, \u001b[38;5;124m'\u001b[39m\u001b[38;5;124mdummy\u001b[39m\u001b[38;5;124m'\u001b[39m, \u001b[38;5;124m'\u001b[39m\u001b[38;5;124mensemble\u001b[39m\u001b[38;5;124m'\u001b[39m, \u001b[38;5;124m'\u001b[39m\u001b[38;5;124mexceptions\u001b[39m\u001b[38;5;124m'\u001b[39m,\n\u001b[1;32m     87\u001b[0m            \u001b[38;5;124m'\u001b[39m\u001b[38;5;124mexperimental\u001b[39m\u001b[38;5;124m'\u001b[39m, \u001b[38;5;124m'\u001b[39m\u001b[38;5;124mexternals\u001b[39m\u001b[38;5;124m'\u001b[39m, \u001b[38;5;124m'\u001b[39m\u001b[38;5;124mfeature_extraction\u001b[39m\u001b[38;5;124m'\u001b[39m,\n\u001b[0;32m   (...)\u001b[0m\n\u001b[1;32m     96\u001b[0m            \u001b[38;5;124m'\u001b[39m\u001b[38;5;124mclone\u001b[39m\u001b[38;5;124m'\u001b[39m, \u001b[38;5;124m'\u001b[39m\u001b[38;5;124mget_config\u001b[39m\u001b[38;5;124m'\u001b[39m, \u001b[38;5;124m'\u001b[39m\u001b[38;5;124mset_config\u001b[39m\u001b[38;5;124m'\u001b[39m, \u001b[38;5;124m'\u001b[39m\u001b[38;5;124mconfig_context\u001b[39m\u001b[38;5;124m'\u001b[39m,\n\u001b[1;32m     97\u001b[0m            \u001b[38;5;124m'\u001b[39m\u001b[38;5;124mshow_versions\u001b[39m\u001b[38;5;124m'\u001b[39m]\n",
      "File \u001b[0;32m~/.local/lib/python3.8/site-packages/sklearn/base.py:17\u001b[0m\n\u001b[1;32m     15\u001b[0m \u001b[38;5;28;01mfrom\u001b[39;00m \u001b[38;5;21;01m.\u001b[39;00m \u001b[38;5;28;01mimport\u001b[39;00m __version__\n\u001b[1;32m     16\u001b[0m \u001b[38;5;28;01mfrom\u001b[39;00m \u001b[38;5;21;01m.\u001b[39;00m\u001b[38;5;21;01m_config\u001b[39;00m \u001b[38;5;28;01mimport\u001b[39;00m get_config\n\u001b[0;32m---> 17\u001b[0m \u001b[38;5;28;01mfrom\u001b[39;00m \u001b[38;5;21;01m.\u001b[39;00m\u001b[38;5;21;01mutils\u001b[39;00m \u001b[38;5;28;01mimport\u001b[39;00m _IS_32BIT\n\u001b[1;32m     18\u001b[0m \u001b[38;5;28;01mfrom\u001b[39;00m \u001b[38;5;21;01m.\u001b[39;00m\u001b[38;5;21;01mutils\u001b[39;00m\u001b[38;5;21;01m.\u001b[39;00m\u001b[38;5;21;01m_tags\u001b[39;00m \u001b[38;5;28;01mimport\u001b[39;00m (\n\u001b[1;32m     19\u001b[0m     _DEFAULT_TAGS,\n\u001b[1;32m     20\u001b[0m     _safe_tags,\n\u001b[1;32m     21\u001b[0m )\n\u001b[1;32m     22\u001b[0m \u001b[38;5;28;01mfrom\u001b[39;00m \u001b[38;5;21;01m.\u001b[39;00m\u001b[38;5;21;01mutils\u001b[39;00m\u001b[38;5;21;01m.\u001b[39;00m\u001b[38;5;21;01mvalidation\u001b[39;00m \u001b[38;5;28;01mimport\u001b[39;00m check_X_y\n",
      "File \u001b[0;32m~/.local/lib/python3.8/site-packages/sklearn/utils/__init__.py:23\u001b[0m\n\u001b[1;32m     20\u001b[0m \u001b[38;5;28;01mfrom\u001b[39;00m \u001b[38;5;21;01mscipy\u001b[39;00m\u001b[38;5;21;01m.\u001b[39;00m\u001b[38;5;21;01msparse\u001b[39;00m \u001b[38;5;28;01mimport\u001b[39;00m issparse\n\u001b[1;32m     22\u001b[0m \u001b[38;5;28;01mfrom\u001b[39;00m \u001b[38;5;21;01m.\u001b[39;00m\u001b[38;5;21;01mmurmurhash\u001b[39;00m \u001b[38;5;28;01mimport\u001b[39;00m murmurhash3_32\n\u001b[0;32m---> 23\u001b[0m \u001b[38;5;28;01mfrom\u001b[39;00m \u001b[38;5;21;01m.\u001b[39;00m\u001b[38;5;21;01mclass_weight\u001b[39;00m \u001b[38;5;28;01mimport\u001b[39;00m compute_class_weight, compute_sample_weight\n\u001b[1;32m     24\u001b[0m \u001b[38;5;28;01mfrom\u001b[39;00m \u001b[38;5;21;01m.\u001b[39;00m \u001b[38;5;28;01mimport\u001b[39;00m _joblib\n\u001b[1;32m     25\u001b[0m \u001b[38;5;28;01mfrom\u001b[39;00m \u001b[38;5;21;01m.\u001b[39;00m\u001b[38;5;21;01m.\u001b[39;00m\u001b[38;5;21;01mexceptions\u001b[39;00m \u001b[38;5;28;01mimport\u001b[39;00m DataConversionWarning\n",
      "File \u001b[0;32m~/.local/lib/python3.8/site-packages/sklearn/utils/class_weight.py:7\u001b[0m\n\u001b[1;32m      1\u001b[0m \u001b[38;5;66;03m# Authors: Andreas Mueller\u001b[39;00m\n\u001b[1;32m      2\u001b[0m \u001b[38;5;66;03m#          Manoj Kumar\u001b[39;00m\n\u001b[1;32m      3\u001b[0m \u001b[38;5;66;03m# License: BSD 3 clause\u001b[39;00m\n\u001b[1;32m      5\u001b[0m \u001b[38;5;28;01mimport\u001b[39;00m \u001b[38;5;21;01mnumpy\u001b[39;00m \u001b[38;5;28;01mas\u001b[39;00m \u001b[38;5;21;01mnp\u001b[39;00m\n\u001b[0;32m----> 7\u001b[0m \u001b[38;5;28;01mfrom\u001b[39;00m \u001b[38;5;21;01m.\u001b[39;00m\u001b[38;5;21;01mvalidation\u001b[39;00m \u001b[38;5;28;01mimport\u001b[39;00m _deprecate_positional_args\n\u001b[1;32m     10\u001b[0m \u001b[38;5;129m@_deprecate_positional_args\u001b[39m\n\u001b[1;32m     11\u001b[0m \u001b[38;5;28;01mdef\u001b[39;00m \u001b[38;5;21mcompute_class_weight\u001b[39m(class_weight, \u001b[38;5;241m*\u001b[39m, classes, y):\n\u001b[1;32m     12\u001b[0m     \u001b[38;5;124;03m\"\"\"Estimate class weights for unbalanced datasets.\u001b[39;00m\n\u001b[1;32m     13\u001b[0m \n\u001b[1;32m     14\u001b[0m \u001b[38;5;124;03m    Parameters\u001b[39;00m\n\u001b[0;32m   (...)\u001b[0m\n\u001b[1;32m     38\u001b[0m \u001b[38;5;124;03m    Logistic Regression in Rare Events Data, King, Zen, 2001.\u001b[39;00m\n\u001b[1;32m     39\u001b[0m \u001b[38;5;124;03m    \"\"\"\u001b[39;00m\n",
      "File \u001b[0;32m~/.local/lib/python3.8/site-packages/sklearn/utils/validation.py:26\u001b[0m\n\u001b[1;32m     22\u001b[0m \u001b[38;5;28;01mimport\u001b[39;00m \u001b[38;5;21;01mjoblib\u001b[39;00m\n\u001b[1;32m     24\u001b[0m \u001b[38;5;28;01mfrom\u001b[39;00m \u001b[38;5;21;01mcontextlib\u001b[39;00m \u001b[38;5;28;01mimport\u001b[39;00m suppress\n\u001b[0;32m---> 26\u001b[0m \u001b[38;5;28;01mfrom\u001b[39;00m \u001b[38;5;21;01m.\u001b[39;00m\u001b[38;5;21;01mfixes\u001b[39;00m \u001b[38;5;28;01mimport\u001b[39;00m _object_dtype_isnan, parse_version\n\u001b[1;32m     27\u001b[0m \u001b[38;5;28;01mfrom\u001b[39;00m \u001b[38;5;21;01m.\u001b[39;00m\u001b[38;5;21;01m.\u001b[39;00m \u001b[38;5;28;01mimport\u001b[39;00m get_config \u001b[38;5;28;01mas\u001b[39;00m _get_config\n\u001b[1;32m     28\u001b[0m \u001b[38;5;28;01mfrom\u001b[39;00m \u001b[38;5;21;01m.\u001b[39;00m\u001b[38;5;21;01m.\u001b[39;00m\u001b[38;5;21;01mexceptions\u001b[39;00m \u001b[38;5;28;01mimport\u001b[39;00m PositiveSpectrumWarning\n",
      "File \u001b[0;32m~/.local/lib/python3.8/site-packages/sklearn/utils/fixes.py:20\u001b[0m\n\u001b[1;32m     18\u001b[0m \u001b[38;5;28;01mimport\u001b[39;00m \u001b[38;5;21;01mscipy\u001b[39;00m\u001b[38;5;21;01m.\u001b[39;00m\u001b[38;5;21;01msparse\u001b[39;00m \u001b[38;5;28;01mas\u001b[39;00m \u001b[38;5;21;01msp\u001b[39;00m\n\u001b[1;32m     19\u001b[0m \u001b[38;5;28;01mimport\u001b[39;00m \u001b[38;5;21;01mscipy\u001b[39;00m\n\u001b[0;32m---> 20\u001b[0m \u001b[38;5;28;01mimport\u001b[39;00m \u001b[38;5;21;01mscipy\u001b[39;00m\u001b[38;5;21;01m.\u001b[39;00m\u001b[38;5;21;01mstats\u001b[39;00m\n\u001b[1;32m     21\u001b[0m \u001b[38;5;28;01mfrom\u001b[39;00m \u001b[38;5;21;01mscipy\u001b[39;00m\u001b[38;5;21;01m.\u001b[39;00m\u001b[38;5;21;01msparse\u001b[39;00m\u001b[38;5;21;01m.\u001b[39;00m\u001b[38;5;21;01mlinalg\u001b[39;00m \u001b[38;5;28;01mimport\u001b[39;00m lsqr \u001b[38;5;28;01mas\u001b[39;00m sparse_lsqr  \u001b[38;5;66;03m# noqa\u001b[39;00m\n\u001b[1;32m     22\u001b[0m \u001b[38;5;28;01mfrom\u001b[39;00m \u001b[38;5;21;01mnumpy\u001b[39;00m\u001b[38;5;21;01m.\u001b[39;00m\u001b[38;5;21;01mma\u001b[39;00m \u001b[38;5;28;01mimport\u001b[39;00m MaskedArray \u001b[38;5;28;01mas\u001b[39;00m _MaskedArray  \u001b[38;5;66;03m# TODO: remove in 1.0\u001b[39;00m\n",
      "File \u001b[0;32m~/.local/lib/python3.8/site-packages/scipy/stats/__init__.py:467\u001b[0m\n\u001b[1;32m      1\u001b[0m \u001b[38;5;124;03m\"\"\"\u001b[39;00m\n\u001b[1;32m      2\u001b[0m \u001b[38;5;124;03m.. _statsrefmanual:\u001b[39;00m\n\u001b[1;32m      3\u001b[0m \n\u001b[0;32m   (...)\u001b[0m\n\u001b[1;32m    462\u001b[0m \n\u001b[1;32m    463\u001b[0m \u001b[38;5;124;03m\"\"\"\u001b[39;00m\n\u001b[1;32m    465\u001b[0m \u001b[38;5;28;01mfrom\u001b[39;00m \u001b[38;5;21;01m.\u001b[39;00m\u001b[38;5;21;01m_warnings_errors\u001b[39;00m \u001b[38;5;28;01mimport\u001b[39;00m (ConstantInputWarning, NearConstantInputWarning,\n\u001b[1;32m    466\u001b[0m                                DegenerateDataWarning, FitError)\n\u001b[0;32m--> 467\u001b[0m \u001b[38;5;28;01mfrom\u001b[39;00m \u001b[38;5;21;01m.\u001b[39;00m\u001b[38;5;21;01m_stats_py\u001b[39;00m \u001b[38;5;28;01mimport\u001b[39;00m \u001b[38;5;241m*\u001b[39m\n\u001b[1;32m    468\u001b[0m \u001b[38;5;28;01mfrom\u001b[39;00m \u001b[38;5;21;01m.\u001b[39;00m\u001b[38;5;21;01m_variation\u001b[39;00m \u001b[38;5;28;01mimport\u001b[39;00m variation\n\u001b[1;32m    469\u001b[0m \u001b[38;5;28;01mfrom\u001b[39;00m \u001b[38;5;21;01m.\u001b[39;00m\u001b[38;5;21;01mdistributions\u001b[39;00m \u001b[38;5;28;01mimport\u001b[39;00m \u001b[38;5;241m*\u001b[39m\n",
      "File \u001b[0;32m~/.local/lib/python3.8/site-packages/scipy/stats/_stats_py.py:39\u001b[0m\n\u001b[1;32m     36\u001b[0m \u001b[38;5;28;01mfrom\u001b[39;00m \u001b[38;5;21;01mnumpy\u001b[39;00m\u001b[38;5;21;01m.\u001b[39;00m\u001b[38;5;21;01mlib\u001b[39;00m \u001b[38;5;28;01mimport\u001b[39;00m NumpyVersion\n\u001b[1;32m     37\u001b[0m \u001b[38;5;28;01mfrom\u001b[39;00m \u001b[38;5;21;01mnumpy\u001b[39;00m\u001b[38;5;21;01m.\u001b[39;00m\u001b[38;5;21;01mtesting\u001b[39;00m \u001b[38;5;28;01mimport\u001b[39;00m suppress_warnings\n\u001b[0;32m---> 39\u001b[0m \u001b[38;5;28;01mfrom\u001b[39;00m \u001b[38;5;21;01mscipy\u001b[39;00m\u001b[38;5;21;01m.\u001b[39;00m\u001b[38;5;21;01mspatial\u001b[39;00m\u001b[38;5;21;01m.\u001b[39;00m\u001b[38;5;21;01mdistance\u001b[39;00m \u001b[38;5;28;01mimport\u001b[39;00m cdist\n\u001b[1;32m     40\u001b[0m \u001b[38;5;28;01mfrom\u001b[39;00m \u001b[38;5;21;01mscipy\u001b[39;00m\u001b[38;5;21;01m.\u001b[39;00m\u001b[38;5;21;01mndimage\u001b[39;00m \u001b[38;5;28;01mimport\u001b[39;00m _measurements\n\u001b[1;32m     41\u001b[0m \u001b[38;5;28;01mfrom\u001b[39;00m \u001b[38;5;21;01mscipy\u001b[39;00m\u001b[38;5;21;01m.\u001b[39;00m\u001b[38;5;21;01m_lib\u001b[39;00m\u001b[38;5;21;01m.\u001b[39;00m\u001b[38;5;21;01m_util\u001b[39;00m \u001b[38;5;28;01mimport\u001b[39;00m (check_random_state, MapWrapper,\n\u001b[1;32m     42\u001b[0m                               rng_integers, _rename_parameter)\n",
      "File \u001b[0;32m~/.local/lib/python3.8/site-packages/scipy/spatial/__init__.py:111\u001b[0m\n\u001b[1;32m    109\u001b[0m \u001b[38;5;28;01mfrom\u001b[39;00m \u001b[38;5;21;01m.\u001b[39;00m\u001b[38;5;21;01m_plotutils\u001b[39;00m \u001b[38;5;28;01mimport\u001b[39;00m \u001b[38;5;241m*\u001b[39m\n\u001b[1;32m    110\u001b[0m \u001b[38;5;28;01mfrom\u001b[39;00m \u001b[38;5;21;01m.\u001b[39;00m\u001b[38;5;21;01m_procrustes\u001b[39;00m \u001b[38;5;28;01mimport\u001b[39;00m procrustes\n\u001b[0;32m--> 111\u001b[0m \u001b[38;5;28;01mfrom\u001b[39;00m \u001b[38;5;21;01m.\u001b[39;00m\u001b[38;5;21;01m_geometric_slerp\u001b[39;00m \u001b[38;5;28;01mimport\u001b[39;00m geometric_slerp\n\u001b[1;32m    113\u001b[0m \u001b[38;5;66;03m# Deprecated namespaces, to be removed in v2.0.0\u001b[39;00m\n\u001b[1;32m    114\u001b[0m \u001b[38;5;28;01mfrom\u001b[39;00m \u001b[38;5;21;01m.\u001b[39;00m \u001b[38;5;28;01mimport\u001b[39;00m ckdtree, kdtree, qhull\n",
      "File \u001b[0;32m~/.local/lib/python3.8/site-packages/scipy/spatial/_geometric_slerp.py:9\u001b[0m\n\u001b[1;32m      6\u001b[0m \u001b[38;5;28;01mfrom\u001b[39;00m \u001b[38;5;21;01mtyping\u001b[39;00m \u001b[38;5;28;01mimport\u001b[39;00m TYPE_CHECKING\n\u001b[1;32m      8\u001b[0m \u001b[38;5;28;01mimport\u001b[39;00m \u001b[38;5;21;01mnumpy\u001b[39;00m \u001b[38;5;28;01mas\u001b[39;00m \u001b[38;5;21;01mnp\u001b[39;00m\n\u001b[0;32m----> 9\u001b[0m \u001b[38;5;28;01mfrom\u001b[39;00m \u001b[38;5;21;01mscipy\u001b[39;00m\u001b[38;5;21;01m.\u001b[39;00m\u001b[38;5;21;01mspatial\u001b[39;00m\u001b[38;5;21;01m.\u001b[39;00m\u001b[38;5;21;01mdistance\u001b[39;00m \u001b[38;5;28;01mimport\u001b[39;00m euclidean\n\u001b[1;32m     11\u001b[0m \u001b[38;5;28;01mif\u001b[39;00m TYPE_CHECKING:\n\u001b[1;32m     12\u001b[0m     \u001b[38;5;28;01mimport\u001b[39;00m \u001b[38;5;21;01mnumpy\u001b[39;00m\u001b[38;5;21;01m.\u001b[39;00m\u001b[38;5;21;01mtyping\u001b[39;00m \u001b[38;5;28;01mas\u001b[39;00m \u001b[38;5;21;01mnpt\u001b[39;00m\n",
      "File \u001b[0;32m~/.local/lib/python3.8/site-packages/scipy/spatial/distance.py:121\u001b[0m\n\u001b[1;32m    119\u001b[0m \u001b[38;5;28;01mfrom\u001b[39;00m \u001b[38;5;21;01m.\u001b[39;00m \u001b[38;5;28;01mimport\u001b[39;00m _hausdorff\n\u001b[1;32m    120\u001b[0m \u001b[38;5;28;01mfrom\u001b[39;00m \u001b[38;5;21;01m.\u001b[39;00m\u001b[38;5;21;01m.\u001b[39;00m\u001b[38;5;21;01mlinalg\u001b[39;00m \u001b[38;5;28;01mimport\u001b[39;00m norm\n\u001b[0;32m--> 121\u001b[0m \u001b[38;5;28;01mfrom\u001b[39;00m \u001b[38;5;21;01m.\u001b[39;00m\u001b[38;5;21;01m.\u001b[39;00m\u001b[38;5;21;01mspecial\u001b[39;00m \u001b[38;5;28;01mimport\u001b[39;00m rel_entr\n\u001b[1;32m    123\u001b[0m \u001b[38;5;28;01mfrom\u001b[39;00m \u001b[38;5;21;01m.\u001b[39;00m \u001b[38;5;28;01mimport\u001b[39;00m _distance_pybind\n\u001b[1;32m    125\u001b[0m \u001b[38;5;28;01mfrom\u001b[39;00m \u001b[38;5;21;01m.\u001b[39;00m\u001b[38;5;21;01m.\u001b[39;00m\u001b[38;5;21;01m_lib\u001b[39;00m\u001b[38;5;21;01m.\u001b[39;00m\u001b[38;5;21;01mdeprecation\u001b[39;00m \u001b[38;5;28;01mimport\u001b[39;00m _deprecated\n",
      "File \u001b[0;32m~/.local/lib/python3.8/site-packages/scipy/special/__init__.py:649\u001b[0m\n\u001b[1;32m      1\u001b[0m \u001b[38;5;124;03m\"\"\"\u001b[39;00m\n\u001b[1;32m      2\u001b[0m \u001b[38;5;124;03m========================================\u001b[39;00m\n\u001b[1;32m      3\u001b[0m \u001b[38;5;124;03mSpecial functions (:mod:`scipy.special`)\u001b[39;00m\n\u001b[0;32m   (...)\u001b[0m\n\u001b[1;32m    644\u001b[0m \n\u001b[1;32m    645\u001b[0m \u001b[38;5;124;03m\"\"\"\u001b[39;00m\n\u001b[1;32m    647\u001b[0m \u001b[38;5;28;01mfrom\u001b[39;00m \u001b[38;5;21;01m.\u001b[39;00m\u001b[38;5;21;01m_sf_error\u001b[39;00m \u001b[38;5;28;01mimport\u001b[39;00m SpecialFunctionWarning, SpecialFunctionError\n\u001b[0;32m--> 649\u001b[0m \u001b[38;5;28;01mfrom\u001b[39;00m \u001b[38;5;21;01m.\u001b[39;00m \u001b[38;5;28;01mimport\u001b[39;00m _ufuncs\n\u001b[1;32m    650\u001b[0m \u001b[38;5;28;01mfrom\u001b[39;00m \u001b[38;5;21;01m.\u001b[39;00m\u001b[38;5;21;01m_ufuncs\u001b[39;00m \u001b[38;5;28;01mimport\u001b[39;00m \u001b[38;5;241m*\u001b[39m\n\u001b[1;32m    652\u001b[0m \u001b[38;5;28;01mfrom\u001b[39;00m \u001b[38;5;21;01m.\u001b[39;00m \u001b[38;5;28;01mimport\u001b[39;00m _basic\n",
      "File \u001b[0;32m_ufuncs.pyx:1\u001b[0m, in \u001b[0;36minit scipy.special._ufuncs\u001b[0;34m()\u001b[0m\n",
      "File \u001b[0;32m<frozen importlib._bootstrap>:389\u001b[0m, in \u001b[0;36mparent\u001b[0;34m(self)\u001b[0m\n",
      "\u001b[0;31mKeyboardInterrupt\u001b[0m: "
     ]
    }
   ],
   "source": [
    "\"\"\"This program bilinearizes 3R planar dyanmics using koopman theory and autoencoder to map\"\"\"\n",
    "import numpy as np\n",
    "import matplotlib.pyplot as plt\n",
    "import sklearn.preprocessing\n",
    "import itertools\n",
    "import scipy.io\n",
    "import torch\n",
    "\n",
    "# bilinear Koopman\n",
    "from core.koopman_time_delay import KoopDNN, KoopmanNet, KoopmanNetCtrl\n",
    "from models.koop_model import model_matricies,lift, lift_delay\n",
    "from core.util import fit_standardizer\n",
    "from sklearn import preprocessing\n",
    "\n",
    "# forward map neural net\n",
    "from core.neural_fwd_map import map_Net\n",
    "\n",
    "\n",
    "## import paths\n",
    "from paths.paths import path_pars\n"
   ]
  },
  {
   "cell_type": "markdown",
   "id": "7438c0e7-44d2-49f4-973f-cafdfb025261",
   "metadata": {
    "tags": []
   },
   "source": [
    "### Load Data"
   ]
  },
  {
   "cell_type": "code",
   "execution_count": null,
   "id": "4f5301d6-7226-466a-9019-0c6984a5478c",
   "metadata": {
    "tags": []
   },
   "outputs": [],
   "source": [
    "data = scipy.io.loadmat('dynamics/Dataset_MATLAB/2D/data.mat')\n",
    "\n",
    "X_end = np.array(data['X_end'], dtype = 'float64')\n",
    "X_full = np.array(data['X'], dtype = 'float64')\n",
    "U_full = np.array(data['tau'], dtype = 'float64')\n",
    "\n",
    "print(X_end.shape, X_full.shape,U_full.shape)"
   ]
  },
  {
   "cell_type": "code",
   "execution_count": null,
   "id": "ffaca398-a554-4d3d-9a24-3a171af0301e",
   "metadata": {},
   "outputs": [],
   "source": [
    "np.sum(np.sum(np.isnan(X_end))), np.sum(np.sum(np.isnan(U_full))), np.sum(np.sum(np.isnan(X_full)))"
   ]
  },
  {
   "cell_type": "markdown",
   "id": "f52a178d-a5d3-4e76-be3c-612aafa7935a",
   "metadata": {
    "id": "LyK0JbXORz_Q",
    "pycharm": {
     "name": "#%% md\n"
    }
   },
   "source": [
    "***Simulation Parameters***"
   ]
  },
  {
   "cell_type": "code",
   "execution_count": null,
   "id": "e5c1b61f-4b45-4d68-8518-ae6a46aa5f0d",
   "metadata": {
    "collapsed": false,
    "jupyter": {
     "outputs_hidden": false
    },
    "pycharm": {
     "name": "#%%\n"
    },
    "tags": []
   },
   "outputs": [],
   "source": [
    "dt = float(data['dt']) #time step\n",
    "num_snaps = int(data['num_snaps']) # no. of snapshots\n",
    "num_traj = int(data['num_traj']) #no of trajectories\n",
    "T = np.linspace(0,num_snaps*dt, num_snaps+1)\n",
    "num_train = int(0.75*num_traj) # no. of training examples\n",
    "num_val = num_traj-num_train # no of testing examples\n",
    "num_traj = num_train+num_val #no of trajectories\n",
    "num_states = X_full.shape[2] # no. of states\n",
    "num_inputs = U_full.shape[2] # no. of inputs"
   ]
  },
  {
   "cell_type": "code",
   "execution_count": null,
   "id": "d9f277e2-6e49-43a7-9741-76c1351b47ca",
   "metadata": {
    "tags": []
   },
   "outputs": [],
   "source": [
    "dt, num_snaps, num_traj, num_states, num_inputs"
   ]
  },
  {
   "cell_type": "markdown",
   "id": "c7a68c77-2459-4537-9aea-45c980e0a43e",
   "metadata": {
    "pycharm": {
     "name": "#%% md\n"
    }
   },
   "source": [
    "***Plotting the trajectories***"
   ]
  },
  {
   "cell_type": "code",
   "execution_count": null,
   "id": "6b150a42-257b-49c3-beb3-683943f8fa6f",
   "metadata": {
    "collapsed": false,
    "jupyter": {
     "outputs_hidden": false
    },
    "pycharm": {
     "name": "#%%\n"
    },
    "tags": []
   },
   "outputs": [],
   "source": [
    "\"\"\"Training dataset visualization\"\"\"\n",
    "#theta evolution\n",
    "for i in range(int(num_states/2)):\n",
    "    plt.subplot(3,3,i+1)\n",
    "    plt.xlabel(\"t\")\n",
    "    plt.ylabel(\"th\"+str(i+1))\n",
    "    for j in range(num_traj):\n",
    "        plt.plot(T,X_full[j,:,i])"
   ]
  },
  {
   "cell_type": "code",
   "execution_count": null,
   "id": "231b199f-55b6-40c7-ac6b-956646d92930",
   "metadata": {
    "tags": []
   },
   "outputs": [],
   "source": [
    "for i in range(int(num_states/2)):\n",
    "    plt.subplot(3,3,i+1)\n",
    "    plt.xlabel(\"t\")\n",
    "    plt.ylabel(\"th\"+str(i+1)+ ' dot')\n",
    "    for j in range(num_traj):\n",
    "        plt.plot(T,X_full[j,:,i+int(num_states/2)])"
   ]
  },
  {
   "cell_type": "code",
   "execution_count": null,
   "id": "49928504-d2b6-45ed-b060-3ed7589f626c",
   "metadata": {
    "collapsed": false,
    "jupyter": {
     "outputs_hidden": false
    },
    "pycharm": {
     "name": "#%%\n"
    },
    "tags": []
   },
   "outputs": [],
   "source": [
    "#x and y positions of the end effector\n",
    "ax = plt.axes(projection='3d')\n",
    "ax.set_xlabel(\"x\")\n",
    "ax.set_ylabel(\"y\")\n",
    "ax.set_zlabel(\"z\")\n",
    "for i in range(num_traj):\n",
    "    ax.plot3D(X_end[i,:,0],X_end[i,:,1],X_end[i,:,2])"
   ]
  },
  {
   "cell_type": "code",
   "execution_count": null,
   "id": "ec9085f2-5beb-4e8f-86d7-c524772c5218",
   "metadata": {
    "tags": []
   },
   "outputs": [],
   "source": [
    "for i in range(num_inputs):\n",
    "    plt.subplot(4,2,i+1)\n",
    "    plt.xlabel(\"t\")\n",
    "    plt.ylabel(\"tau\"+str(i))\n",
    "    for j in range(num_traj):\n",
    "        plt.plot(T[:-1],U_full[j,:,i])"
   ]
  },
  {
   "cell_type": "markdown",
   "id": "18e37604-4c4c-4bc1-ac11-acdaf149e5b3",
   "metadata": {
    "pycharm": {
     "name": "#%% md\n"
    }
   },
   "source": [
    "***Training and validation datasets***"
   ]
  },
  {
   "cell_type": "code",
   "execution_count": null,
   "id": "c391e6f8-fa93-42f4-8712-fabe56c15992",
   "metadata": {
    "collapsed": false,
    "jupyter": {
     "outputs_hidden": false
    },
    "pycharm": {
     "name": "#%%\n"
    },
    "tags": []
   },
   "outputs": [],
   "source": [
    "# split training and vaidation datasets\n",
    "xs_train, us_train = X_full[:num_train,:,:],U_full[:num_train,:,:]\n",
    "xs_val, us_val = X_full[num_train:,:,:],U_full[num_train:,:,:]"
   ]
  },
  {
   "cell_type": "code",
   "execution_count": null,
   "id": "c640137c-5598-42d9-899c-f70bda6e9086",
   "metadata": {
    "collapsed": false,
    "jupyter": {
     "outputs_hidden": false
    },
    "pycharm": {
     "name": "#%%\n"
    },
    "tags": []
   },
   "outputs": [],
   "source": [
    "# import scipy.io\n",
    "# Data_set = {\"x_end\": X_end, \"X_full\": X_full}\n",
    "# scipy.io.savemat(\"Data_set.mat\",Data_set)"
   ]
  },
  {
   "cell_type": "code",
   "execution_count": null,
   "id": "eac0a215-5152-4aa1-813f-c0224bc5f26e",
   "metadata": {
    "collapsed": false,
    "jupyter": {
     "outputs_hidden": false
    },
    "pycharm": {
     "name": "#%%\n"
    },
    "tags": []
   },
   "outputs": [],
   "source": [
    "# import torch\n",
    "# import torch.nn as nn\n",
    "# import torch.nn.functional as F"
   ]
  },
  {
   "cell_type": "markdown",
   "id": "80397c6b-d325-4a23-b9cd-9dfdd6c28eb6",
   "metadata": {
    "pycharm": {
     "name": "#%% md\n"
    }
   },
   "source": [
    "***Model Training***"
   ]
  },
  {
   "cell_type": "code",
   "execution_count": null,
   "id": "dbbdab9c-2b5b-4fb6-b2e4-73360246b500",
   "metadata": {
    "collapsed": false,
    "jupyter": {
     "outputs_hidden": false
    },
    "pycharm": {
     "name": "#%%\n"
    },
    "tags": []
   },
   "outputs": [],
   "source": [
    "net_params = {}\n",
    "net_params['state_dim'] = num_states\n",
    "net_params['ctrl_dim'] = num_inputs\n",
    "net_params[\"output_dim\"] = num_states\n",
    "net_params['encoder_hidden_width'] = 30\n",
    "net_params['encoder_hidden_depth'] = 2\n",
    "net_params[\"num_delays\"] = 10\n",
    "net_params['encoder_output_dim'] = 20\n",
    "net_params['optimizer'] = 'adam'\n",
    "net_params['activation_type'] = 'tanh'\n",
    "net_params['lr'] = 5e-5 # 5e-4\n",
    "net_params['epochs'] = 500\n",
    "net_params['batch_size'] = 128\n",
    "net_params['lifted_loss_penalty'] = 0.4 \n",
    "net_params['l2_reg'] = 0.0         \n",
    "net_params['l1_reg'] = 0.0\n",
    "net_params['first_obs_const'] = False\n",
    "net_params['override_C'] = True # this makes the state a part of lifetd state\n",
    "net_params['dt'] = dt"
   ]
  },
  {
   "cell_type": "code",
   "execution_count": null,
   "id": "12d641b5-12b9-44b6-b904-413ec0a199a8",
   "metadata": {
    "collapsed": false,
    "jupyter": {
     "outputs_hidden": false
    },
    "pycharm": {
     "name": "#%%\n"
    },
    "tags": []
   },
   "outputs": [],
   "source": [
    "train = True\n",
    "\n",
    "if train == True:\n",
    "    file = 'saved_models/Kuka/2D/koop_arch_time_delay.pth'\n",
    "    standardizer_u_kdnn = fit_standardizer(us_train, preprocessing.StandardScaler(with_mean=False))\n",
    "    net = KoopmanNetCtrl(net_params, standardizer_u=standardizer_u_kdnn)\n",
    "    # net = KoopmanNetCtrl(net_params)\n",
    "    model_koop_dnn = KoopDNN(net)\n",
    "    model_koop_dnn.set_datasets(xs_train, u_train=us_train, x_val=xs_val, u_val=us_val)\n",
    "    model_koop_dnn.model_pipeline(net_params)\n",
    "    model_koop_dnn.construct_koopman_model()\n",
    "    torch.save(model_koop_dnn,file)\n",
    "else:\n",
    "    file = 'saved_models/Kuka/2D/koop_arch_time_delay.pth'\n",
    "    model_koop_dnn = torch.load(file)\n"
   ]
  },
  {
   "cell_type": "markdown",
   "id": "2fdb22ab-843d-4bd8-90b2-a3f6d5b94db1",
   "metadata": {
    "pycharm": {
     "name": "#%% md\n"
    }
   },
   "source": [
    "***Learning Curves***"
   ]
  },
  {
   "cell_type": "code",
   "execution_count": null,
   "id": "5159f8fc-9fb7-4a3b-a784-14980f595f3e",
   "metadata": {
    "collapsed": false,
    "jupyter": {
     "outputs_hidden": false
    },
    "pycharm": {
     "name": "#%%\n"
    },
    "tags": []
   },
   "outputs": [],
   "source": [
    "train_loss = [l[0] for l in model_koop_dnn.train_loss_hist]\n",
    "train_pred_loss = [l[1] for l in model_koop_dnn.train_loss_hist]\n",
    "train_lifted_loss = [l[2] for l in model_koop_dnn.train_loss_hist]\n",
    "val_loss = [l[0] for l in model_koop_dnn.val_loss_hist]\n",
    "val_pred_loss = [l[1] for l in model_koop_dnn.val_loss_hist]\n",
    "val_lifted_loss = [l[2] for l in model_koop_dnn.val_loss_hist]\n",
    "epochs = np.arange(0, net_params['epochs'])\n",
    "\n",
    "plt.figure(figsize=(15,8))\n",
    "plt.plot(epochs, train_loss, color='tab:orange', label='Training loss')\n",
    "plt.plot(epochs, train_pred_loss, '--', color='tab:orange', label='Training prediction loss')\n",
    "plt.plot(epochs, train_lifted_loss, ':', color='tab:orange', label='Training lifted loss')\n",
    "plt.plot(epochs, val_loss, color='tab:blue', label='Validation loss')\n",
    "plt.plot(epochs, val_pred_loss, '--', color='tab:blue', label='Validation prediction loss')\n",
    "plt.plot(epochs, val_lifted_loss, ':', color='tab:blue', label='Validation lifted loss')\n",
    "plt.legend()\n",
    "plt.xlabel('Epoch')\n",
    "plt.ylabel('Loss')\n",
    "plt.yscale('log')\n",
    "plt.savefig(\"convergence plot for arch1\")\n",
    "plt.show()\n"
   ]
  },
  {
   "cell_type": "code",
   "execution_count": null,
   "id": "206eaa62-603e-4cbc-811c-865f6d533030",
   "metadata": {
    "collapsed": false,
    "jupyter": {
     "outputs_hidden": false
    },
    "pycharm": {
     "name": "#%%\n"
    },
    "tags": []
   },
   "outputs": [],
   "source": [
    "map_net_params = {}\n",
    "map_net_params[\"input_dim\"] = 7 #number of joint angles\n",
    "map_net_params[\"output_dim\"] = 3 #x and y position of the end effector\n",
    "map_net_params[\"hidden_width\"] = 20\n",
    "map_net_params[\"hidden_depth\"] = 2\n",
    "map_net_params[\"batch_size\"] = 100\n",
    "map_net_params[\"epochs\"] = 500\n",
    "map_net_params[\"activation_type\"] = 'tanh'\n",
    "map_net_params[\"lr\"] = 1e-3\n",
    "map_net_params[\"optimizer\"] = 'adam'\n",
    "map_net_params['l2_reg'] = 0.0\n",
    "map_net_params['l1_reg'] = 0.0"
   ]
  },
  {
   "cell_type": "code",
   "execution_count": null,
   "id": "7e8d3c8b-666e-4a6c-b284-40d55145cbef",
   "metadata": {
    "collapsed": false,
    "jupyter": {
     "outputs_hidden": false
    },
    "pycharm": {
     "name": "#%%\n"
    },
    "tags": []
   },
   "outputs": [],
   "source": [
    "#dataset\n",
    "# split training and vaidation datasets\n",
    "xs_map_train, ys_map_train = X_full[:num_train,:,:7],X_end[:num_train,:,:3]\n",
    "xs_map_val, ys_map_val = X_full[num_train:,:,:7],X_end[num_train:,:,:3]"
   ]
  },
  {
   "cell_type": "code",
   "execution_count": null,
   "id": "4a835f39-65d4-48d9-9c37-2872236ec6bb",
   "metadata": {
    "tags": []
   },
   "outputs": [],
   "source": [
    "ys_map_train.shape, ys_map_val.shape,xs_map_train.shape, xs_map_val.shape"
   ]
  },
  {
   "cell_type": "code",
   "execution_count": null,
   "id": "ea0b8b45-ad6b-4331-bf2d-9036d1db5b86",
   "metadata": {
    "collapsed": false,
    "jupyter": {
     "outputs_hidden": false
    },
    "pycharm": {
     "name": "#%%\n"
    },
    "tags": []
   },
   "outputs": [],
   "source": [
    "#Initalize network\n",
    "#Initalize network\n",
    "train = True\n",
    "\n",
    "if train==True:\n",
    "    file = \"saved_models/Kuka/2D/map_net_time_delay.pth\"\n",
    "    map_net = map_Net(map_net_params)\n",
    "    map_net.set_dataset_map(xs_map_train,ys_map_train,xs_map_val,ys_map_val)\n",
    "    map_net.data_pipeline()\n",
    "    map_net.plot_loss()\n",
    "    torch.save(map_net.state_dict(),file)\n",
    "else:\n",
    "    file = \"saved_models/Kuka/2D/map_net_time_delay.pth\"\n",
    "    map_net = map_Net(map_net_params)\n",
    "    map_net.load_state_dict(torch.load(file))\n"
   ]
  },
  {
   "cell_type": "code",
   "execution_count": null,
   "id": "4ff42bba-e6dc-4287-80aa-728e702a106c",
   "metadata": {
    "collapsed": false,
    "jupyter": {
     "outputs_hidden": false
    },
    "pycharm": {
     "name": "#%%\n"
    },
    "tags": []
   },
   "outputs": [],
   "source": [
    "epochs = np.arange(0, map_net_params['epochs'])\n",
    "plt.figure(figsize=(15,8))\n",
    "plt.plot(epochs, map_net.train_loss_hist, color='tab:orange', label='Training loss')\n",
    "plt.plot(epochs, map_net.val_loss_hist, color='tab:blue', label='Validation loss')\n",
    "\n",
    "plt.legend()\n",
    "plt.xlabel('Epoch')\n",
    "plt.ylabel('Loss')\n",
    "plt.yscale('log')\n",
    "plt.savefig(\"convergence plot of map net for arch1[3,20,20,2]\")\n",
    "plt.show()"
   ]
  },
  {
   "cell_type": "code",
   "execution_count": null,
   "id": "482cdc47-7238-41f6-b5e4-da428d1a0657",
   "metadata": {
    "collapsed": false,
    "jupyter": {
     "outputs_hidden": false
    },
    "pycharm": {
     "name": "#%%\n"
    },
    "tags": []
   },
   "outputs": [],
   "source": [
    "# import scipy.io\n",
    "\n",
    "# #save net parameters\n",
    "# scipy.io.savemat(\"map_in_weights.mat\", {\"map_in_weights\": map_net.map_net_in.weight.detach().numpy()})\n",
    "# scipy.io.savemat(\"map_in_bias.mat\", {\"map_in_bias\": map_net.map_net_in.bias.detach().numpy()})\n",
    "\n",
    "# scipy.io.savemat(\"map_hidden_weights_1.mat\",\n",
    "#                  {\"map_hidden_weights_1\": map_net.map_net_hid[0].weight.detach().numpy()})\n",
    "# scipy.io.savemat(\"map_hidden_bias_1.mat\",\n",
    "#                  {\"map_hidden_bias_1\": map_net.map_net_hid[0].bias.detach().numpy()})\n",
    "\n",
    "# scipy.io.savemat(\"map_hidden_weights_2.mat\",\n",
    "#                  {\"map_hidden_weights_2\": map_net.map_net_hid[1].weight.detach().numpy()})\n",
    "# scipy.io.savemat(\"map_hidden_bias_2.mat\",\n",
    "#                  {\"map_hidden_bias_2\": map_net.map_net_hid[1].bias.detach().numpy()})\n",
    "\n",
    "# scipy.io.savemat(\"map_hidden_weights_3.mat\",\n",
    "#                  {\"map_hidden_weights_3\": map_net.map_net_hid[2].weight.detach().numpy()})\n",
    "# scipy.io.savemat(\"map_hidden_bias_3.mat\",\n",
    "#                  {\"map_hidden_bias_3\": map_net.map_net_hid[2].bias.detach().numpy()})\n",
    "\n",
    "# scipy.io.savemat(\"map_out_weights.mat\", {\"map_out_weights\": map_net.map_net_out.weight.detach().numpy()})\n",
    "# scipy.io.savemat(\"map_out_bias.mat\", {\"map_out_bias\": map_net.map_net_out.bias.detach().numpy()})"
   ]
  },
  {
   "cell_type": "markdown",
   "id": "381c3966-a5eb-420e-9baa-24ab15b0a7b4",
   "metadata": {
    "pycharm": {
     "name": "#%% md\n"
    }
   },
   "source": []
  },
  {
   "cell_type": "markdown",
   "id": "3692adf6-6ea0-4a3f-9807-f330fbaadc68",
   "metadata": {
    "pycharm": {
     "name": "#%% md\n"
    }
   },
   "source": [
    "## Test Data Parameters"
   ]
  },
  {
   "cell_type": "code",
   "execution_count": null,
   "id": "a8b6d490-7032-4631-9134-7458da2bda57",
   "metadata": {
    "collapsed": false,
    "jupyter": {
     "outputs_hidden": false
    },
    "pycharm": {
     "name": "#%%\n"
    },
    "tags": []
   },
   "outputs": [],
   "source": [
    "# test data parameters\n",
    "num_snaps_val = 1000 # no. of snapshots\n",
    "T = np.linspace(0,num_snaps_val*dt, num_snaps_val+1)\n",
    "num_traj_val = 1 # no. of training examples\n",
    "first_obs_const = int(net_params['first_obs_const']) #only one state\n",
    "override_C = net_params['override_C']\n",
    "if override_C:\n",
    "    n_obs = int(net_params['encoder_output_dim']) + num_states + first_obs_const \n",
    "else:\n",
    "    n_obs = int(net_params['encoder_output_dim']) + first_obs_const "
   ]
  },
  {
   "cell_type": "markdown",
   "id": "4dfa9e3b-1013-4aba-8fb5-145f761e257d",
   "metadata": {
    "pycharm": {
     "name": "#%% md\n"
    }
   },
   "source": [
    "***Koopman Bilinear Model***\n"
   ]
  },
  {
   "cell_type": "code",
   "execution_count": null,
   "id": "a5601ba3-474c-4377-8d68-2ff9a9f2a4d6",
   "metadata": {
    "collapsed": false,
    "jupyter": {
     "outputs_hidden": false
    },
    "pycharm": {
     "name": "#%%\n"
    },
    "tags": []
   },
   "outputs": [],
   "source": [
    "A = np.array(model_koop_dnn.A)\n",
    "#B = np.array(model_koop_dnn.B).reshape(-1,num_inputs*n_obs)\n",
    "B = np.array(model_koop_dnn.B)\n",
    "#B_tensor = np.empty((num_inputs,n_obs, n_obs))\n",
    "#for ii, b in enumerate(B):\n",
    "    #B_tensor[ii] = b\n",
    "C = np.array(model_koop_dnn.C)\n",
    "\n",
    "print(A.shape, B.shape, C.shape)"
   ]
  },
  {
   "cell_type": "code",
   "execution_count": null,
   "id": "d56c9a83-2a31-4571-b14b-e4d00dfc8b4a",
   "metadata": {
    "collapsed": false,
    "jupyter": {
     "outputs_hidden": false
    },
    "pycharm": {
     "name": "#%%\n"
    },
    "tags": []
   },
   "outputs": [],
   "source": [
    "# #SAVE MATRIX PARAMETERS AS MATLAB FILE\n",
    "# import scipy.io\n",
    "\n",
    "# dyn_matrices = {\"A\": A, \"B\": B, \"C\": C}\n",
    "# scipy.io.savemat(\"dyn_mat.mat\", dyn_matrices)\n",
    "# #save encoder parameters\n",
    "# scipy.io.savemat(\"in_weights.mat\", {\"encode_in_weights\": model_koop_dnn.net.encoder_fc_in.weight.detach().numpy()})\n",
    "# scipy.io.savemat(\"in_bias.mat\", {\"encode_in_bias\": model_koop_dnn.net.encoder_fc_in.bias.detach().numpy()})\n",
    "\n",
    "# scipy.io.savemat(\"hidden_weights_1.mat\",\n",
    "#                  {\"encode_hidden_weights_1\": model_koop_dnn.net.encoder_fc_hid[0].weight.detach().numpy()})\n",
    "# scipy.io.savemat(\"hidden_bias_1.mat\",\n",
    "#                  {\"encode_hidden_bias_1\": model_koop_dnn.net.encoder_fc_hid[0].bias.detach().numpy()})\n",
    "\n",
    "# scipy.io.savemat(\"hidden_weights_2.mat\",\n",
    "#                  {\"encode_hidden_weights_2\": model_koop_dnn.net.encoder_fc_hid[1].weight.detach().numpy()})\n",
    "# scipy.io.savemat(\"hidden_bias_2.mat\",\n",
    "#                  {\"encode_hidden_bias_2\": model_koop_dnn.net.encoder_fc_hid[1].bias.detach().numpy()})\n",
    "\n",
    "# scipy.io.savemat(\"out_weights.mat\", {\"encode_out_weights\": model_koop_dnn.net.encoder_fc_out.weight.detach().numpy()})\n",
    "# scipy.io.savemat(\"out_bias.mat\", {\"encode_out_bias\": model_koop_dnn.net.encoder_fc_out.bias.detach().numpy()})"
   ]
  },
  {
   "cell_type": "code",
   "execution_count": null,
   "id": "82b02063-b6b0-4a59-8a83-aed474afcb32",
   "metadata": {
    "collapsed": false,
    "jupyter": {
     "outputs_hidden": false
    },
    "pycharm": {
     "name": "#%%\n"
    },
    "tags": []
   },
   "outputs": [],
   "source": [
    "encode_out_bias = model_koop_dnn.net.encoder_fc_out.bias.detach().numpy()\n",
    "encode_out_weights = model_koop_dnn.net.encoder_fc_out.weight.detach().numpy()"
   ]
  },
  {
   "cell_type": "markdown",
   "id": "7d90f343-6ea8-4a81-ba62-01faa2144676",
   "metadata": {
    "pycharm": {
     "name": "#%% md\n"
    }
   },
   "source": [
    "***Test Data Generation***"
   ]
  },
  {
   "cell_type": "code",
   "execution_count": null,
   "id": "bf5ab2f8-e79c-48be-90a1-ef92d8054d09",
   "metadata": {
    "collapsed": false,
    "jupyter": {
     "outputs_hidden": false
    },
    "pycharm": {
     "name": "#%%\n"
    },
    "tags": []
   },
   "outputs": [],
   "source": [
    "# data_gen\n",
    "j = 60\n",
    "xs_end_test = X_end[j,:,:]\n",
    "xs_test = X_full[j,:,:]\n",
    "us_test = U_full[j,:,:]"
   ]
  },
  {
   "cell_type": "code",
   "execution_count": null,
   "id": "0eb04dd2-8c7b-4e77-9b9c-a4209ffb5878",
   "metadata": {
    "collapsed": false,
    "jupyter": {
     "outputs_hidden": false
    },
    "pycharm": {
     "name": "#%%\n"
    },
    "tags": []
   },
   "outputs": [],
   "source": [
    "print(model_koop_dnn.test_loss(xs_test.reshape(1,-1,14),u_test = us_test.reshape(1,-1,7)))"
   ]
  },
  {
   "cell_type": "code",
   "execution_count": null,
   "id": "6cd66fff-447a-4077-860f-5d3310ff7f97",
   "metadata": {
    "collapsed": false,
    "jupyter": {
     "outputs_hidden": false
    },
    "pycharm": {
     "name": "#%%\n"
    }
   },
   "outputs": [],
   "source": [
    "basis = model_koop_dnn.net.encode_forward_"
   ]
  },
  {
   "cell_type": "code",
   "execution_count": null,
   "id": "b8a233a6-b4a4-4332-a126-b5e207476ea0",
   "metadata": {
    "collapsed": false,
    "jupyter": {
     "outputs_hidden": false
    },
    "pycharm": {
     "name": "#%%\n"
    }
   },
   "outputs": [],
   "source": [
    "X,_ = model_koop_dnn.net.process(xs_test.reshape(1,-1,14),data_u = us_test.reshape(1,-1,7))\n",
    "print(X.shape)"
   ]
  },
  {
   "cell_type": "code",
   "execution_count": null,
   "id": "32a787ca-187b-4bdc-8fb8-a28d539a24b7",
   "metadata": {
    "collapsed": false,
    "jupyter": {
     "outputs_hidden": false
    },
    "pycharm": {
     "name": "#%%\n"
    },
    "tags": []
   },
   "outputs": [],
   "source": [
    "x = X[:, :num_states]\n",
    "u = X[:, num_states:num_states+num_inputs]\n",
    "x_prime = X[:,num_states+num_inputs:]\n",
    "\n",
    "print(x.shape, u.shape, x_prime.shape)"
   ]
  },
  {
   "cell_type": "code",
   "execution_count": null,
   "id": "0c7951e7-5755-4c47-a8a6-b52fed7fefd3",
   "metadata": {
    "collapsed": false,
    "jupyter": {
     "outputs_hidden": false
    },
    "pycharm": {
     "name": "#%%\n"
    }
   },
   "outputs": [],
   "source": []
  },
  {
   "cell_type": "markdown",
   "id": "bd1aea33-883f-44ce-a185-47a4f8293fc9",
   "metadata": {
    "pycharm": {
     "name": "#%% md\n"
    }
   },
   "source": [
    "***Initial Condition Lifting***"
   ]
  },
  {
   "cell_type": "code",
   "execution_count": null,
   "id": "9be79d83-47e2-4887-9913-c9398707f9bd",
   "metadata": {
    "collapsed": false,
    "jupyter": {
     "outputs_hidden": false
    },
    "pycharm": {
     "name": "#%%\n"
    },
    "tags": []
   },
   "outputs": [],
   "source": [
    "# initialize the matricies\n",
    "z = np.empty((n_obs,num_snaps_val+1)).T\n",
    "x_est = np.zeros((num_states,num_snaps_val+1)).T"
   ]
  },
  {
   "cell_type": "code",
   "execution_count": null,
   "id": "cbf607f2-cd6d-44b0-9cb6-6eaecb0feb51",
   "metadata": {
    "collapsed": false,
    "jupyter": {
     "outputs_hidden": false
    },
    "pycharm": {
     "name": "#%%\n"
    },
    "tags": []
   },
   "outputs": [],
   "source": [
    "z[0,:] = lift_delay(x[0,:],model_koop_dnn, net_params)\n",
    "x_est[0,:] = x[0,:]"
   ]
  },
  {
   "cell_type": "markdown",
   "id": "2ae77edc-b824-445d-941b-fc1ba7ac1ad9",
   "metadata": {
    "pycharm": {
     "name": "#%% md\n"
    }
   },
   "source": [
    "***Time Evolution***"
   ]
  },
  {
   "cell_type": "code",
   "execution_count": null,
   "id": "3bed4064-a951-487e-bf3c-affc4705de57",
   "metadata": {
    "collapsed": false,
    "jupyter": {
     "outputs_hidden": false
    },
    "pycharm": {
     "name": "#%%\n"
    },
    "tags": []
   },
   "outputs": [],
   "source": [
    "for i in range(num_snaps_val):\n",
    "  #bilinear\n",
    "    z[i+1,:] = np.matmul(z[i,:],A.T)+np.matmul(np.kron(u[i,:],z[i,:]),B.T)\n",
    "    x_est[i+1,:] = np.matmul(z[i+1,:],C.T)     "
   ]
  },
  {
   "cell_type": "markdown",
   "id": "6efb2aff-3b99-4bf0-bcdc-2e18613d35e2",
   "metadata": {
    "pycharm": {
     "name": "#%% md\n"
    }
   },
   "source": [
    "***Visualization***"
   ]
  },
  {
   "cell_type": "markdown",
   "id": "3d82fd8a-8bd4-49c2-8625-5fec5054a680",
   "metadata": {
    "pycharm": {
     "name": "#%% md\n"
    }
   },
   "source": [
    "# Joint Space"
   ]
  },
  {
   "cell_type": "code",
   "execution_count": null,
   "id": "db74dff4-ed80-44d8-a392-33e7470ffeed",
   "metadata": {
    "collapsed": false,
    "jupyter": {
     "outputs_hidden": false
    },
    "pycharm": {
     "name": "#%%\n"
    },
    "tags": []
   },
   "outputs": [],
   "source": [
    "plt.figure()\n",
    "plt.plot(T[:-1],x[:,0],label ='Actual')\n",
    "plt.plot(T,x_est[:,0],label = 'estimated(bilinear)')\n",
    "plt.xlabel('t')\n",
    "plt.ylabel('theta_1')\n",
    "plt.title('theta_1 Comparison')\n",
    "plt.legend()"
   ]
  },
  {
   "cell_type": "code",
   "execution_count": null,
   "id": "dcba0f61-1c03-4fab-841d-1285f7692be7",
   "metadata": {
    "collapsed": false,
    "jupyter": {
     "outputs_hidden": false
    },
    "pycharm": {
     "name": "#%%\n"
    },
    "tags": []
   },
   "outputs": [],
   "source": [
    "plt.figure()\n",
    "plt.plot(T[:-1],x[:,1],label ='Actual')\n",
    "plt.plot(T,x_est[:,1],label = 'estimated(bilinear)')\n",
    "plt.title('Theta_2')\n",
    "plt.xlabel('t')\n",
    "plt.ylabel('Theta_2_comparison')\n",
    "plt.legend()"
   ]
  },
  {
   "cell_type": "code",
   "execution_count": null,
   "id": "c9328c59-4dbd-4aed-843c-13076a0024f5",
   "metadata": {
    "collapsed": false,
    "jupyter": {
     "outputs_hidden": false
    },
    "pycharm": {
     "name": "#%%\n"
    },
    "tags": []
   },
   "outputs": [],
   "source": [
    "\n",
    "plt.figure()\n",
    "plt.plot(T[:-1],x[:,2],label ='Actual')\n",
    "plt.plot(T,x_est[:,2],label = 'estimated(bilinear)')\n",
    "plt.title('Theta_3')\n",
    "plt.xlabel('t')\n",
    "plt.ylabel('theta_3')\n",
    "plt.legend()"
   ]
  },
  {
   "cell_type": "code",
   "execution_count": null,
   "id": "92a4c6c6-a7e0-453a-9440-0a132d2b577c",
   "metadata": {
    "collapsed": false,
    "jupyter": {
     "outputs_hidden": false
    },
    "pycharm": {
     "name": "#%%\n"
    },
    "tags": []
   },
   "outputs": [],
   "source": [
    "plt.figure()\n",
    "plt.plot(T[:-1],x[:,3],label ='Actual')\n",
    "plt.plot(T,x_est[:,3],label = 'estimated(bilinear)')\n",
    "plt.title('Theta_4')\n",
    "plt.xlabel('t')\n",
    "plt.ylabel('theta_4')\n",
    "plt.legend()"
   ]
  },
  {
   "cell_type": "code",
   "execution_count": null,
   "id": "a7c35bc4-4500-45a2-ac38-b0b0ea124fd1",
   "metadata": {
    "collapsed": false,
    "jupyter": {
     "outputs_hidden": false
    },
    "pycharm": {
     "name": "#%%\n"
    },
    "tags": []
   },
   "outputs": [],
   "source": [
    "plt.figure()\n",
    "plt.plot(T[:-1],x[:,4],label ='Actual')\n",
    "plt.plot(T,x_est[:,4],label = 'estimated(bilinear)')\n",
    "plt.title('Theta_5')\n",
    "plt.xlabel('t')\n",
    "plt.ylabel('theta_5')\n",
    "plt.legend()"
   ]
  },
  {
   "cell_type": "code",
   "execution_count": null,
   "id": "915177bb-73e4-42a0-b458-dd3284aa2f56",
   "metadata": {
    "collapsed": false,
    "jupyter": {
     "outputs_hidden": false
    },
    "pycharm": {
     "name": "#%%\n"
    },
    "tags": []
   },
   "outputs": [],
   "source": [
    "plt.figure()\n",
    "plt.plot(T[:-1],x[:,5],label ='Actual')\n",
    "plt.plot(T,x_est[:,5],label = 'estimated(bilinear)')\n",
    "plt.title('Theta_6')\n",
    "plt.xlabel('t')\n",
    "plt.ylabel('theta_6')\n",
    "plt.legend()"
   ]
  },
  {
   "cell_type": "code",
   "execution_count": null,
   "id": "c11af233-f157-4dae-b0be-d710665f2c4e",
   "metadata": {},
   "outputs": [],
   "source": [
    "plt.figure()\n",
    "plt.plot(T[:-1],x[:,6],label ='Actual')\n",
    "plt.plot(T,x_est[:,6],label = 'estimated(bilinear)')\n",
    "plt.title('Theta_6')\n",
    "plt.xlabel('t')\n",
    "plt.ylabel('theta_6')\n",
    "plt.legend()"
   ]
  },
  {
   "cell_type": "code",
   "execution_count": null,
   "id": "88e81a34-752e-483c-8434-63ac02d6c629",
   "metadata": {
    "collapsed": false,
    "jupyter": {
     "outputs_hidden": false
    },
    "pycharm": {
     "name": "#%%\n"
    },
    "tags": []
   },
   "outputs": [],
   "source": [
    "plt.figure()\n",
    "plt.plot(T[:-1],x[:,7],label ='Actual')\n",
    "plt.plot(T,x_est[:,7],label = 'estimated(bilinear)')\n",
    "plt.xlabel('t')\n",
    "plt.ylabel('theta_1_dot')\n",
    "plt.title('theta_1_dot Comparison')\n",
    "plt.legend()"
   ]
  },
  {
   "cell_type": "code",
   "execution_count": null,
   "id": "b03f7b1f-9cb6-4aa3-8782-7ce39f8a2ac0",
   "metadata": {
    "collapsed": false,
    "jupyter": {
     "outputs_hidden": false
    },
    "pycharm": {
     "name": "#%%\n"
    },
    "tags": []
   },
   "outputs": [],
   "source": [
    "plt.figure()\n",
    "plt.plot(T[:-1],x[:,8],label ='Actual')\n",
    "plt.plot(T,x_est[:,8],label = 'estimated(bilinear)')\n",
    "plt.title('Theta_2_dot')\n",
    "plt.xlabel('t')\n",
    "plt.ylabel('Theta_2_dot_comparison')\n",
    "plt.legend()"
   ]
  },
  {
   "cell_type": "code",
   "execution_count": null,
   "id": "eaf9d542-91ee-4982-9006-58c2f505d94a",
   "metadata": {
    "collapsed": false,
    "jupyter": {
     "outputs_hidden": false
    },
    "pycharm": {
     "name": "#%%\n"
    },
    "tags": []
   },
   "outputs": [],
   "source": [
    "\n",
    "plt.figure()\n",
    "plt.plot(T[:-1],x[:,9],label ='Actual')\n",
    "plt.plot(T,x_est[:,9],label = 'estimated(bilinear)')\n",
    "plt.title('Theta_3_dot')\n",
    "plt.xlabel('t')\n",
    "plt.ylabel('theta_3_dot')\n",
    "plt.legend()"
   ]
  },
  {
   "cell_type": "code",
   "execution_count": null,
   "id": "b9c877ef-5a99-421e-b409-73f7858804d2",
   "metadata": {
    "collapsed": false,
    "jupyter": {
     "outputs_hidden": false
    },
    "pycharm": {
     "name": "#%%\n"
    },
    "tags": []
   },
   "outputs": [],
   "source": [
    "plt.figure()\n",
    "plt.plot(T[:-1],x[:,10],label ='Actual')\n",
    "plt.plot(T,x_est[:,10],label = 'estimated(bilinear)')\n",
    "plt.title('Theta_4_dot')\n",
    "plt.xlabel('t')\n",
    "plt.ylabel('theta_4_dot')\n",
    "plt.legend()"
   ]
  },
  {
   "cell_type": "code",
   "execution_count": null,
   "id": "8966ab39-5a45-4a7b-abbe-5ef5de9264f2",
   "metadata": {
    "collapsed": false,
    "jupyter": {
     "outputs_hidden": false
    },
    "pycharm": {
     "name": "#%%\n"
    },
    "tags": []
   },
   "outputs": [],
   "source": [
    "plt.figure()\n",
    "plt.plot(T[:-1],x[:,11],label ='Actual')\n",
    "plt.plot(T,x_est[:,11],label = 'estimated(bilinear)')\n",
    "plt.title('Theta_5_dot')\n",
    "plt.xlabel('t')\n",
    "plt.ylabel('theta_5_dot')\n",
    "plt.legend()"
   ]
  },
  {
   "cell_type": "code",
   "execution_count": null,
   "id": "2791de1d-3fba-4744-b884-303e6b8b9b70",
   "metadata": {
    "collapsed": false,
    "jupyter": {
     "outputs_hidden": false
    },
    "pycharm": {
     "name": "#%%\n"
    },
    "tags": []
   },
   "outputs": [],
   "source": [
    "plt.figure()\n",
    "plt.plot(T[:-1],x[:,12],label ='Actual')\n",
    "plt.plot(T,x_est[:,12],label = 'estimated(bilinear)')\n",
    "plt.title('Theta_6_dot')\n",
    "plt.xlabel('t')\n",
    "plt.ylabel('theta_6_dot')\n",
    "plt.legend()"
   ]
  },
  {
   "cell_type": "code",
   "execution_count": null,
   "id": "88a7c40f-0ce7-47fa-a2e2-6d0585aa88a2",
   "metadata": {},
   "outputs": [],
   "source": [
    "plt.figure()\n",
    "plt.plot(T[:-1],x[:,13],label ='Actual')\n",
    "plt.plot(T,x_est[:,13],label = 'estimated(bilinear)')\n",
    "plt.title('Theta_7_dot')\n",
    "plt.xlabel('t')\n",
    "plt.ylabel('theta_7_dot')\n",
    "plt.legend()"
   ]
  },
  {
   "cell_type": "code",
   "execution_count": null,
   "id": "4b3c5edb-7197-4e2d-ae31-b45229e625b1",
   "metadata": {},
   "outputs": [],
   "source": []
  },
  {
   "cell_type": "code",
   "execution_count": null,
   "id": "0d4b95f2-7881-4587-869f-3aef7d175505",
   "metadata": {},
   "outputs": [],
   "source": []
  }
 ],
 "metadata": {
  "kernelspec": {
   "display_name": "Python 3 (ipykernel)",
   "language": "python",
   "name": "python3"
  },
  "language_info": {
   "codemirror_mode": {
    "name": "ipython",
    "version": 3
   },
   "file_extension": ".py",
   "mimetype": "text/x-python",
   "name": "python",
   "nbconvert_exporter": "python",
   "pygments_lexer": "ipython3",
   "version": "3.8.10"
  }
 },
 "nbformat": 4,
 "nbformat_minor": 5
}
