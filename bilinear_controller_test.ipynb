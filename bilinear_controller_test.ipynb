{
 "cells": [
  {
   "cell_type": "code",
   "execution_count": 91,
   "metadata": {
    "collapsed": true,
    "jupyter": {
     "outputs_hidden": true
    }
   },
   "outputs": [],
   "source": [
    "\n",
    "import numpy as np\n",
    "import matplotlib.pyplot as plt"
   ]
  },
  {
   "cell_type": "code",
   "execution_count": 92,
   "metadata": {
    "collapsed": false,
    "jupyter": {
     "outputs_hidden": false
    },
    "pycharm": {
     "name": "#%%\n"
    }
   },
   "outputs": [],
   "source": [
    "A = np.array([[0.1, 0.2],[0.2, -0.3]])\n",
    "B = np.array([[0.2, 0.1, 0.03, -0.1],[0.1, 0.3, -0.2, 0.05]])\n",
    "Cr = np.eye(2)"
   ]
  },
  {
   "cell_type": "code",
   "execution_count": 93,
   "metadata": {
    "collapsed": false,
    "jupyter": {
     "outputs_hidden": false
    },
    "pycharm": {
     "name": "#%%\n"
    }
   },
   "outputs": [],
   "source": [
    "dt = 0.01"
   ]
  },
  {
   "cell_type": "code",
   "execution_count": 94,
   "metadata": {
    "collapsed": false,
    "jupyter": {
     "outputs_hidden": false
    },
    "pycharm": {
     "name": "#%%\n"
    }
   },
   "outputs": [],
   "source": [
    "Ac = (A-np.eye(2))/dt\n",
    "Bc = B/dt"
   ]
  },
  {
   "cell_type": "code",
   "execution_count": 95,
   "metadata": {
    "collapsed": false,
    "jupyter": {
     "outputs_hidden": false
    },
    "pycharm": {
     "name": "#%%\n"
    }
   },
   "outputs": [],
   "source": [
    "num_inputs = 2\n",
    "num_states = 2"
   ]
  },
  {
   "cell_type": "code",
   "execution_count": 96,
   "metadata": {
    "collapsed": false,
    "jupyter": {
     "outputs_hidden": false
    },
    "pycharm": {
     "name": "#%%\n"
    }
   },
   "outputs": [],
   "source": [
    "gamma2 = 1\n",
    "num_snaps_ctrl = 1000\n",
    "# specify the matricies\n",
    "\n",
    "x_ctrl2 = np.empty((num_states, num_snaps_ctrl))\n",
    "u_ctrl2 = np.empty((num_inputs, num_snaps_ctrl - 1))\n",
    "error = np.empty((num_states, num_snaps_ctrl))\n",
    "x_ref = np.array([0,0]).T\n",
    "## initialize the matricies\n",
    "x_ctrl2[:, 0] = np.array([2,-3])\n",
    "x_ref_dot = np.array([0,0]).T\n",
    "t_ctrl = np.arange(start=0, stop=10, step=dt)\n",
    "\n",
    "for i in range(num_snaps_ctrl - 1):\n",
    "    t = t_ctrl[i]\n",
    "    error[:,i] = x_ctrl2[:,i] - x_ref\n",
    "\n",
    "    u_ctrl2[:,i] = np.linalg.pinv(Cr @ Bc @ np.kron(x_ctrl2[:, i], np.eye(num_inputs)).T) @ (-gamma2 * error[:,i] + x_ref_dot - Cr @ Ac @ x_ctrl2[:,i])\n",
    "\n",
    "    x_ctrl2[:, i + 1] = np.matmul(x_ctrl2[:, i], A.T) + np.matmul(np.kron(u_ctrl2[:, i], x_ctrl2[:, i]), B.T)"
   ]
  },
  {
   "cell_type": "code",
   "execution_count": 97,
   "metadata": {
    "collapsed": false,
    "jupyter": {
     "outputs_hidden": false
    },
    "pycharm": {
     "name": "#%%\n"
    }
   },
   "outputs": [
    {
     "data": {
      "image/png": "[encoded data removed]",
      "text/plain": [
       "<Figure size 1440x864 with 2 Axes>"
      ]
     },
     "metadata": {
      "needs_background": "light"
     },
     "output_type": "display_data"
    }
   ],
   "source": [
    "plt.figure(figsize=(20, 12))\n",
    "for i in range(int(num_states)):\n",
    "    plt.subplot(3, 3, i + 1)\n",
    "    # plt.plot(t_ctrl[:], x_ref[i, :], label='reference')\n",
    "    plt.plot(t_ctrl[:], x_ctrl2[i, :], label='traced')\n",
    "    plt.xlabel('t')\n",
    "    plt.ylabel('theta_' + str(i))\n",
    "    plt.title('theta_' + str(i) + ' Comparison')\n",
    "    plt.legend()"
   ]
  },
  {
   "cell_type": "code",
   "execution_count": 97,
   "metadata": {
    "collapsed": false,
    "jupyter": {
     "outputs_hidden": false
    },
    "pycharm": {
     "name": "#%%\n"
    }
   },
   "outputs": [],
   "source": []
  }
 ],
 "metadata": {
  "kernelspec": {
   "display_name": "Python 3 (ipykernel)",
   "language": "python",
   "name": "python3"
  },
  "language_info": {
   "codemirror_mode": {
    "name": "ipython",
    "version": 3
   },
   "file_extension": ".py",
   "mimetype": "text/x-python",
   "name": "python",
   "nbconvert_exporter": "python",
   "pygments_lexer": "ipython3",
   "version": "3.8.10"
  }
 },
 "nbformat": 4,
 "nbformat_minor": 4
}
